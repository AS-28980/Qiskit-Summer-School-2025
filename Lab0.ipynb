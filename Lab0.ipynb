{
 "cells": [
  {
   "cell_type": "markdown",
   "id": "eae0ae1e-c117-4365-803e-f9c5cc238aa6",
   "metadata": {},
   "source": [
    "## Imports <a id=\"imports\"></a>"
   ]
  },
  {
   "cell_type": "code",
   "execution_count": 2,
   "id": "a73ce8ad-6368-4278-b23d-278dac3f72f6",
   "metadata": {},
   "outputs": [],
   "source": [
    "import matplotlib.pyplot as plt\n",
    "\n",
    "from qiskit import QuantumCircuit, generate_preset_pass_manager\n",
    "from qiskit.visualization import plot_histogram\n",
    "from qiskit.quantum_info import SparsePauliOp\n",
    "\n",
    "from qiskit_ibm_runtime import QiskitRuntimeService, SamplerV2 as Sampler, EstimatorV2 as Estimator\n",
    "\n",
    "from qiskit_aer import AerSimulator\n",
    "\n",
    "from qc_grader.challenges.qgss_2025 import grade_lab0_ex1, grade_lab0_ex2"
   ]
  },
  {
   "cell_type": "markdown",
   "id": "03f948c2-effc-45f8-a46e-07c41aae417a",
   "metadata": {},
   "source": [
    "## Sanity check <a id=\"sanity-check\"></a>\n",
    "\n",
    "Let's now create a very simple quantum circuit to check that everything is working as expected."
   ]
  },
  {
   "cell_type": "code",
   "execution_count": 3,
   "id": "ce44491e-a187-4a81-b45d-aef133e45abe",
   "metadata": {},
   "outputs": [
    {
     "data": {
      "image/png": "[encoded data removed]",
      "text/plain": [
       "<Figure size 287.294x200.667 with 1 Axes>"
      ]
     },
     "execution_count": 3,
     "metadata": {},
     "output_type": "execute_result"
    }
   ],
   "source": [
    "# Create a new circuit with a single qubit\n",
    "qc = QuantumCircuit(2)\n",
    "# Add a H gate to qubit 0\n",
    "qc.h(0)\n",
    "# Add a CNOT gate to qubit 1\n",
    "qc.cx(0, 1)\n",
    "# Return a drawing of the circuit using MatPlotLib (\"mpl\").\n",
    "qc.draw(\"mpl\")"
   ]
  },
  {
   "cell_type": "markdown",
   "id": "c3c7f6ca-7a74-484b-83aa-9be61d5e9585",
   "metadata": {},
   "source": [
    "The output you see represents a quantum circuit that produces a Bell state:\n",
    "\n",
    "$$|Bell\\rangle=\\frac{|00\\rangle+|11\\rangle}{\\sqrt{2}}$$"
   ]
  },
  {
   "cell_type": "markdown",
   "id": "e6df82a3-dc2d-4c07-8155-cda862fdd23a",
   "metadata": {},
   "source": [
    "# Generate a three-qubit GHZ state using Qiskit patterns <a id=\"ghz\"></a>\n",
    "\n",
    "Now, we will follow this episode of [Coding with Qiskit](https://www.youtube.com/watch?v=93-zLTppFZw&list=PLOFEBzvs-VvrgHZt3exM_NNiNKtZlHvZi&index=4) to guide you through the process of generating a three-qubit GHZ state using [Qiskit patterns](https://quantum.cloud.ibm.com/docs/en/guides/intro-to-patterns). \n",
    "\n",
    "A Qiskit pattern is a general framework for breaking down domain-specific problems and contextualizing required capabilities in stages. This allows for the seamless composability of new capabilities developed by IBM Quantum researchers (and others) and enables a future in which quantum computing tasks are performed by powerful heterogenous (CPU/GPU/QPU) computing infrastructure. \n",
    "\n",
    "The four steps of a Qiskit pattern are as follows:\n",
    "\n",
    "1. **Map** problem to quantum circuits and operators\n",
    "2. **Optimize** for target hardware\n",
    "3. **Execute** on target hardware\n",
    "4. **Post-process** results\n",
    "\n",
    "\n",
    "## Step 1. Map <a id=\"map\"></a>\n",
    "\n",
    "The Greenberger–Horne–Zeilinger (GHZ) state is the extension to three (or more) qubits to the maximally entangled state characteristic of the Bell state depicted above. That means that the GHZ state is:\n",
    "\n",
    "$$\n",
    "|GHZ\\rangle = \\frac{|000\\rangle+|111\\rangle}{\\sqrt{2}}.\n",
    "$$\n",
    "\n",
    "One of the interesting features of the GHZ state is that there are different and equivalent ways to build it using a quantum circuit. In Exercise 1 you will do it in one of the most common ways."
   ]
  },
  {
   "cell_type": "markdown",
   "id": "d98488f4-8010-4bd7-a004-999ff24d25f5",
   "metadata": {},
   "source": [
    "<a id=\"Exercise_1\"></a>\n",
    "<div class=\"alert alert-block alert-success\">\n",
    "    \n",
    "<b>Exercise 1: Design a GHZ state</b> \n",
    "\n",
    "This is your first exercise of the Summer School! Exciting, huh?\n",
    "\n",
    "In this exercise, you will design a GHZ state following the steps below:\n",
    "\n",
    "1. Apply a Hadamard gate to qubit 0, putting it into a superposition. \n",
    "2. Apply a CNOT gate between qubits 0 and 1.\n",
    "3. Apply a CNOT gate between qubits 1 and 2.\n",
    "\n",
    "</div>"
   ]
  },
  {
   "cell_type": "code",
   "execution_count": 4,
   "id": "255a66f3-b696-42b3-be1d-b33a520f8e6a",
   "metadata": {},
   "outputs": [
    {
     "data": {
      "image/png": "[encoded data removed]",
      "text/plain": [
       "<Figure size 371.107x284.278 with 1 Axes>"
      ]
     },
     "execution_count": 4,
     "metadata": {},
     "output_type": "execute_result"
    }
   ],
   "source": [
    "qc = QuantumCircuit(3)\n",
    "\n",
    "### WRITE YOUR CODE BELOW HERE ###\n",
    "# Add a H gate to qubit 0\n",
    "qc.h(0)\n",
    "\n",
    "# Add a CNOT gate to qubits 0 and 1\n",
    "qc.cx(0,1)\n",
    "\n",
    "# Add a CNOT gate to qubits 1 and 2\n",
    "qc.cx(1,2)\n",
    "\n",
    "### YOUR CODE FINISHES HERE    ###\n",
    "\n",
    "# Return a drawing of the circuit using MatPlotLib (\"mpl\").\n",
    "qc.draw(\"mpl\")"
   ]
  },
  {
   "cell_type": "markdown",
   "id": "8011ec48-cc84-41c9-bdff-1ef209d0a48e",
   "metadata": {},
   "source": [
    "## Step 2. Optimize <a id=\"optimize\"></a>\n",
    "\n",
    "Well done designing the circuit!\n",
    "\n",
    "In this case, the circuit is very shallow, and it is not possible to further simplify it or reduce the required number of gates that are needed to build the GHZ state. However, there are other scenarios in which optimizing the circuit is key.\n",
    "\n",
    "There may be situations where you face restrictions in how your quantum circuit can be designed. For example, when running circuits on quantum hardware, you might find connectivity constraints between qubits. This means that some qubits may not be physically connected, so you will need to think of a smart way to implement gates that produce the desired quantum state. Luckily for us, this is where the Qiskit transpiler comes to the rescue! You can provide the desired circuit along with the device's constraints to the transpiler and it will handle the optimization for you.\n",
    "\n",
    "Let us consider, for the GHZ state, a situation in which we are limited to interactions only between qubits 0 and 1 and qubits 0 and 2, but not between qubits 1 and 2. We can introduce these constraints to the transpiler using the `transpile` function."
   ]
  },
  {
   "cell_type": "markdown",
   "id": "2b234f78-2b78-4895-9e69-1ed28db29e38",
   "metadata": {},
   "source": [
    "<a id=\"Exercise_2\"></a>\n",
    "<div class=\"alert alert-block alert-success\">\n",
    "    \n",
    "<b>Exercise 2: Transpile a GHZ state</b> \n",
    "\n",
    "In this second exercise you are asked to transpile the previous GHZ state with the mentioned connectivity constraints:\n",
    "\n",
    "- Qubit 0 <---> Qubit 1\n",
    "- Qubit 0 <---> Qubit 2\n",
    "- ~~Qubit 1 <---> Qubit 2~~\n",
    "\n",
    "</div>"
   ]
  },
  {
   "cell_type": "code",
   "execution_count": 5,
   "id": "ad8e32eb-2e9f-494b-b908-b3e1f14cc8c1",
   "metadata": {},
   "outputs": [
    {
     "data": {
      "image/png": "[encoded data removed]",
      "text/plain": [
       "<Figure size 507.401x284.278 with 1 Axes>"
      ]
     },
     "execution_count": 5,
     "metadata": {},
     "output_type": "execute_result"
    }
   ],
   "source": [
    "### WRITE YOUR CODE BELOW HERE ###\n",
    "# Write the coupling map of connections between qubits 0 and 1 and 0 and 2 as a list of pairs: [[0,1],...]\n",
    "coupling_map = [[0,1],[0,2]]\n",
    "\n",
    "# Transpile the quantum circuit `qc` using the `transpile` function and the coupling map\n",
    "from qiskit import transpile\n",
    "qc_transpiled = transpile(qc, coupling_map=coupling_map)\n",
    "### YOUR CODE FINISHES HERE    ###\n",
    "\n",
    "qc_transpiled.draw(\"mpl\")"
   ]
  },
  {
   "cell_type": "markdown",
   "id": "abe71916-e25a-4d18-9369-9d2f7eec033f",
   "metadata": {},
   "source": [
    "## Step 3. Execute <a id=\"execute\"></a>\n",
    "\n",
    "The next step is exciting - we are going to run the quantum circuit using Qiskit Runtime! \n",
    "\n",
    "We will do that using the two [Qiskit primitives](https://quantum.cloud.ibm.com/docs/guides/primitives):\n",
    "1. **Sampler** samples the output register from the execution of one or more quantum circuits. Its output is counts on per-shot measurements. \n",
    "2. **Estimator** computes the expectation value of one or more observables with respect to the states generated by the quantum circuit. Its output consist of the expectation values along with their standard errors.\n",
    "\n",
    "First, we execute our circuit using the Sampler, then save the results as the variable `results_sampler`. "
   ]
  },
  {
   "cell_type": "code",
   "execution_count": 11,
   "id": "f1f01578-7546-42bf-a637-c89967a73758",
   "metadata": {},
   "outputs": [],
   "source": [
    "# Add measurement operations\n",
    "qc.measure_all()\n",
    "\n",
    "# Set up the backend\n",
    "backend = AerSimulator()\n",
    "\n",
    "# Set up the sampler\n",
    "sampler = Sampler(mode=backend)\n",
    "\n",
    "# Submit the circuit to Sampler\n",
    "pm = generate_preset_pass_manager(backend=backend, optimization_level=1)\n",
    "job = sampler.run(pm.run([qc]))\n",
    "\n",
    "# Get the results\n",
    "results_sampler = job.result()"
   ]
  },
  {
   "cell_type": "markdown",
   "id": "dbf86405-85ab-4c18-aae4-c02c4e60a8d0",
   "metadata": {},
   "source": [
    "Now, we run our circuit using the Estimator primitive, then save the results as the variable `results_estimator`."
   ]
  },
  {
   "cell_type": "code",
   "execution_count": 12,
   "id": "bac14f65-1f2e-4f0c-9a2d-f83ba81ff8f3",
   "metadata": {},
   "outputs": [],
   "source": [
    "# Set up the Estimator\n",
    "estimator = Estimator(mode=backend)\n",
    "\n",
    "# Define some observables\n",
    "ZZZ = SparsePauliOp(\"ZZZ\")\n",
    "ZZX = SparsePauliOp(\"ZZX\")\n",
    "ZII = SparsePauliOp(\"ZII\")\n",
    "XXI = SparsePauliOp(\"XXI\")\n",
    "ZZI = SparsePauliOp(\"ZZI\")\n",
    "III = SparsePauliOp(\"III\")\n",
    "observables = [ZZZ, ZZX, ZII, XXI, ZZI, III]\n",
    "\n",
    "# Submit the circuit to Estimator\n",
    "pub = (qc, observables)\n",
    "job = estimator.run(pubs=[pub])\n",
    "\n",
    "# Get the results\n",
    "results_estimator = job.result()"
   ]
  },
  {
   "cell_type": "markdown",
   "id": "bfc89a3d-b7f4-427a-8661-cdbc8ac908bc",
   "metadata": {},
   "source": [
    "Next is the final step of Qiskit patterns, where we will visualize our results."
   ]
  },
  {
   "cell_type": "markdown",
   "id": "1d1a7b2c-ec92-48e4-b72f-a8a654fe52a8",
   "metadata": {},
   "source": [
    "## Step 4. Post-process <a id=\"post-process\"></a>\n",
    "\n",
    "Finally, the last step of Qiskit patterns is to post-process the information we have gathered from the execution of the quantum circuit.\n",
    "\n",
    "First we visualize the results from the Sampler. We can visualize the counts with a histogram plot and quickly see how the two possible quantum states are measured with a probability of 50%."
   ]
  },
  {
   "cell_type": "code",
   "execution_count": 13,
   "id": "1ec9154e-de8d-44bc-8f64-0b7a17aab319",
   "metadata": {},
   "outputs": [
    {
     "name": "stdout",
     "output_type": "stream",
     "text": [
      "  Outcomes : {'000': 520, '111': 504}\n"
     ]
    },
    {
     "data": {
      "image/png": "[encoded data removed]",
      "text/plain": [
       "<Figure size 640x480 with 1 Axes>"
      ]
     },
     "metadata": {},
     "output_type": "display_data"
    }
   ],
   "source": [
    "counts_list = results_sampler[0].data.meas.get_counts()\n",
    "print(f\"  Outcomes : {counts_list}\")\n",
    "display(plot_histogram(counts_list, title=\"GHZ state\"))"
   ]
  },
  {
   "cell_type": "markdown",
   "id": "4cdc4a5a-06d3-401e-bd34-e13e157ba0c9",
   "metadata": {},
   "source": [
    "Now we can visualize the results of the Estimator."
   ]
  },
  {
   "cell_type": "code",
   "execution_count": 14,
   "id": "1bab890e-da29-4696-8b02-95abc8df9c03",
   "metadata": {},
   "outputs": [
    {
     "name": "stdout",
     "output_type": "stream",
     "text": [
      "Expectation values: [('ZZZ', np.float64(-0.01171875)), ('ZZX', np.float64(0.0029296875)), ('ZII', np.float64(-0.01416015625)), ('XXI', np.float64(-0.02978515625)), ('ZZI', np.float64(1.0)), ('III', np.float64(1.0))]\n"
     ]
    },
    {
     "data": {
      "image/png": "[encoded data removed]",
      "text/plain": [
       "<Figure size 640x480 with 1 Axes>"
      ]
     },
     "metadata": {},
     "output_type": "display_data"
    }
   ],
   "source": [
    "exp_values = results_estimator[0].data.evs\n",
    "observables_list = [\"ZZZ\", \"ZZX\", \"ZII\", \"XXI\", \"ZZI\", \"III\"]\n",
    "print(f\"Expectation values: {list(zip(observables_list, exp_values))}\")\n",
    "\n",
    "# Set up our plot\n",
    "container = plt.bar(observables_list, exp_values, width=0.8)\n",
    "# Label each axis\n",
    "plt.xlabel(\"Observables\")\n",
    "plt.ylabel(\"Values\")\n",
    "plt.show()"
   ]
  },
  {
   "cell_type": "markdown",
   "id": "a6dfae7d-a8ad-4947-8939-3024e7acd8b4",
   "metadata": {},
   "source": [
    "We see that the observables $ZZI$ and $III$ have an expectation value of 1, since $ZZI$ introduces two minus signs that cancel out, and $III$ acts as the identity, leaving the GHZ state unchanged. The rest of the observables have an expectation value of 0, since their $Z$ operators introduce an odd number of minus signs, or the $X$ operators flip a number of qubits that make the overlapping states orthogonal."
   ]
  },
  {
   "cell_type": "markdown",
   "id": "3732ce7d-b02a-4dc3-9e05-16434a59eb6b",
   "metadata": {},
   "source": [
    "## Bonus challenge: Run GHZ on hardware <a id=\"bonus\"></a>\n",
    "\n",
    "To execute a quantum circuit on a quantum computer using Qiskit, we first need to define the quantum backend. We could manually select a specific quantum computer we want to use out of the ones available from IBM Quantum. However, sometimes it is more convenient to select the machine that is least busy at the moment to ensure a fast execution. That's where the method `least_busy` is helpful."
   ]
  },
  {
   "cell_type": "code",
   "execution_count": 15,
   "id": "d5af1cf7-190e-456c-9ecc-7ef0c6b562d4",
   "metadata": {},
   "outputs": [
    {
     "name": "stdout",
     "output_type": "stream",
     "text": [
      "We are using the ibm_torino quantum computer\n"
     ]
    }
   ],
   "source": [
    "# Define the service. This allows you to access IBM QPUs.\n",
    "service = QiskitRuntimeService(name=\"qgss-2025\")\n",
    "\n",
    "# Get a backend\n",
    "backend = service.least_busy(operational=True, simulator=False)\n",
    "print(f\"We are using the {backend.name} quantum computer\")"
   ]
  },
  {
   "cell_type": "markdown",
   "id": "f6189b81-2897-4392-b2cb-a4a4c8abeadc",
   "metadata": {},
   "source": [
    "The next call illustrates how easy it is to execute quantum circuits on hardware with `QiskitRuntimeService`. Once we have selected the backend in the cell above, we can simply copy and paste the same lines of code that we wrote for the Sampler simulator, including post-processing and visualization."
   ]
  },
  {
   "cell_type": "code",
   "execution_count": 16,
   "id": "153d5933-d454-482e-a3ab-4918e39e5f49",
   "metadata": {},
   "outputs": [],
   "source": [
    "### WRITE YOUR CODE BELOW HERE ###\n",
    "# Step 1. Map\n",
    "# You should have created a GHZ circuit above and assigned with variable `qc`\n",
    "\n",
    "# Step 2. Optimize\n",
    "pm = generate_preset_pass_manager(backend=backend, optimization_level=1)\n",
    "qc_transpiled = pm.run(qc)"
   ]
  },
  {
   "cell_type": "code",
   "execution_count": 20,
   "id": "ad6ecdb9-903b-421d-a612-c99a4b79482d",
   "metadata": {},
   "outputs": [],
   "source": [
    "# Step 3. Execute\n",
    "sampler = Sampler(mode=backend)\n",
    "job = sampler.run([qc_transpiled])"
   ]
  },
  {
   "cell_type": "code",
   "execution_count": 21,
   "id": "c5b99dbe-f319-4aa1-8da2-43af1aab0e3b",
   "metadata": {},
   "outputs": [
    {
     "name": "stdout",
     "output_type": "stream",
     "text": [
      "Outcomes : {'000': 520, '111': 504}\n"
     ]
    },
    {
     "data": {
      "image/png": "[encoded data removed]",
      "text/plain": [
       "<Figure size 640x480 with 1 Axes>"
      ]
     },
     "execution_count": 21,
     "metadata": {},
     "output_type": "execute_result"
    }
   ],
   "source": [
    "# Step 4. Post-process\n",
    "results = job.result()\n",
    "counts_list = results_sampler[0].data.meas.get_counts()\n",
    "### YOUR CODE FINISHES HERE    ###\n",
    "\n",
    "print(f\"Outcomes : {counts_list}\")\n",
    "plot_histogram(counts_list,title='GHZ state')"
   ]
  },
  {
   "cell_type": "markdown",
   "id": "21a87294-453b-4ccc-8a48-9a173bb3abe2",
   "metadata": {},
   "source": [
    "##And we're done :)"
   ]
  }
 ],
 "metadata": {
  "kernelspec": {
   "display_name": "Python 3 [QGSS]",
   "language": "python",
   "name": "python3"
  },
  "language_info": {
   "codemirror_mode": {
    "name": "ipython",
    "version": 3
   },
   "file_extension": ".py",
   "mimetype": "text/x-python",
   "name": "python",
   "nbconvert_exporter": "python",
   "pygments_lexer": "ipython3",
   "version": "3.11.9"
  }
 },
 "nbformat": 4,
 "nbformat_minor": 5
}
